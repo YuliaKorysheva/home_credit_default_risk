{
 "cells": [
  {
   "cell_type": "code",
   "execution_count": 1,
   "metadata": {},
   "outputs": [],
   "source": [
    "import pandas as pd\n",
    "import warnings\n",
    "warnings.filterwarnings(\"ignore\")\n",
    "import numpy as np\n",
    "\n",
    "from category_encoders.target_encoder import TargetEncoder\n",
    "from sklearn.metrics import roc_auc_score\n",
    "from sklearn.model_selection import train_test_split\n",
    "from sklearn.model_selection import StratifiedKFold\n",
    "import lightgbm as lgb"
   ]
  },
  {
   "cell_type": "code",
   "execution_count": 2,
   "metadata": {},
   "outputs": [],
   "source": [
    "train = pd.read_csv('train_base.csv', sep=';')\n",
    "test = pd.read_csv('test_base.csv', sep=';')"
   ]
  },
  {
   "cell_type": "code",
   "execution_count": 3,
   "metadata": {},
   "outputs": [],
   "source": [
    "prev = pd.read_csv('previous_application.csv')"
   ]
  },
  {
   "cell_type": "code",
   "execution_count": 4,
   "metadata": {},
   "outputs": [],
   "source": [
    "prev['DAYS_FIRST_DRAWING'].replace(365243, np.nan, inplace= True)\n",
    "prev['DAYS_FIRST_DUE'].replace(365243, np.nan, inplace= True)\n",
    "prev['DAYS_LAST_DUE_1ST_VERSION'].replace(365243, np.nan, inplace= True)\n",
    "prev['DAYS_LAST_DUE'].replace(365243, np.nan, inplace= True)\n",
    "prev['DAYS_TERMINATION'].replace(365243, np.nan, inplace= True)"
   ]
  },
  {
   "cell_type": "code",
   "execution_count": 5,
   "metadata": {},
   "outputs": [],
   "source": [
    "prev['APP_CREDIT_PERC'] = prev['AMT_APPLICATION'] / prev['AMT_CREDIT']"
   ]
  },
  {
   "cell_type": "code",
   "execution_count": 7,
   "metadata": {},
   "outputs": [],
   "source": [
    "# Аргрегирование:\n",
    "features_min = ['AMT_ANNUITY', 'AMT_APPLICATION', 'AMT_CREDIT', 'APP_CREDIT_PERC', 'AMT_DOWN_PAYMENT', \n",
    "               'AMT_GOODS_PRICE', 'HOUR_APPR_PROCESS_START', 'RATE_DOWN_PAYMENT', 'DAYS_DECISION']\n",
    "features_max = ['AMT_ANNUITY', 'AMT_APPLICATION', 'AMT_CREDIT', 'APP_CREDIT_PERC', 'AMT_DOWN_PAYMENT', \n",
    "               'AMT_GOODS_PRICE', 'HOUR_APPR_PROCESS_START', 'RATE_DOWN_PAYMENT', 'DAYS_DECISION']\n",
    "features_mean = ['AMT_ANNUITY', 'AMT_APPLICATION', 'CNT_PAYMENT',  'AMT_CREDIT', 'APP_CREDIT_PERC', 'AMT_DOWN_PAYMENT', \n",
    "               'AMT_GOODS_PRICE', 'HOUR_APPR_PROCESS_START', 'RATE_DOWN_PAYMENT', 'DAYS_DECISION']"
   ]
  },
  {
   "cell_type": "code",
   "execution_count": 25,
   "metadata": {},
   "outputs": [],
   "source": [
    "import aggregation as agt"
   ]
  },
  {
   "cell_type": "code",
   "execution_count": 13,
   "metadata": {},
   "outputs": [],
   "source": [
    "agr_min = agt.aggregate_min_value(prev, features_min, 'SK_ID_PREV')\n",
    "agr_max = agt.aggregate_min_value(prev, features_max, 'SK_ID_PREV')\n",
    "agr_mean = agt.aggregate_min_value(prev, features_mean, 'SK_ID_PREV')"
   ]
  },
  {
   "cell_type": "code",
   "execution_count": 14,
   "metadata": {},
   "outputs": [],
   "source": [
    "agr_min.to_csv('agr_min_prev', sep=';')\n",
    "agr_max.to_csv('agr_max_prev', sep=';')\n",
    "agr_mean.to_csv('agr_mean_prev', sep=';')"
   ]
  },
  {
   "cell_type": "code",
   "execution_count": 6,
   "metadata": {},
   "outputs": [],
   "source": [
    "agr_min = pd.read_csv('agr_min_prev', sep=';')\n",
    "agr_max = pd.read_csv('agr_max_prev', sep=';')\n",
    "agr_mean = pd.read_csv('agr_mean_prev', sep=';')"
   ]
  },
  {
   "cell_type": "code",
   "execution_count": 7,
   "metadata": {},
   "outputs": [],
   "source": [
    "def create_data_aggregation(data, data_agr, feature):\n",
    "    without_credit = list(set(data[feature]) - set(data_agr.index))\n",
    "    empty_df = pd.DataFrame(np.nan, index=without_credit, columns=list(data_agr))\n",
    "    empty_df.fillna(9999, inplace=True)\n",
    "    empty_df['dummy_credit_history'] = 0\n",
    "    data_agr['dummy_credit_history'] = 1\n",
    "    features = pd.concat([empty_df, data_agr])\n",
    "    features[feature] = features.index\n",
    "    \n",
    "    return features"
   ]
  },
  {
   "cell_type": "code",
   "execution_count": 8,
   "metadata": {},
   "outputs": [],
   "source": [
    "with_credit = prev.loc[prev.SK_ID_PREV.isin(list(train.SK_ID_CURR.unique()))]"
   ]
  },
  {
   "cell_type": "code",
   "execution_count": 9,
   "metadata": {},
   "outputs": [],
   "source": [
    "min_df = create_data_aggregation(with_credit, agr_min, 'SK_ID_CURR')"
   ]
  },
  {
   "cell_type": "code",
   "execution_count": 10,
   "metadata": {},
   "outputs": [],
   "source": [
    "max_df = create_data_aggregation(with_credit, agr_max, 'SK_ID_CURR')"
   ]
  },
  {
   "cell_type": "code",
   "execution_count": 11,
   "metadata": {},
   "outputs": [],
   "source": [
    "mean_df = create_data_aggregation(with_credit, agr_mean, 'SK_ID_CURR')"
   ]
  },
  {
   "cell_type": "code",
   "execution_count": 12,
   "metadata": {},
   "outputs": [],
   "source": [
    "df1 = train.merge(min_df, on='SK_ID_CURR', how='left')"
   ]
  },
  {
   "cell_type": "code",
   "execution_count": 13,
   "metadata": {},
   "outputs": [],
   "source": [
    "df3 = df1.merge(max_df, on='SK_ID_CURR', how='left')"
   ]
  },
  {
   "cell_type": "code",
   "execution_count": 14,
   "metadata": {},
   "outputs": [],
   "source": [
    "df4 = df3.merge(mean_df, on='SK_ID_CURR', how='left')"
   ]
  },
  {
   "cell_type": "code",
   "execution_count": 15,
   "metadata": {},
   "outputs": [],
   "source": [
    "X = df4.drop(columns=['SK_ID_CURR', 'Target'])\n",
    "y = df4['Target']"
   ]
  },
  {
   "cell_type": "code",
   "execution_count": 16,
   "metadata": {},
   "outputs": [],
   "source": [
    "kf = StratifiedKFold(n_splits=5,  shuffle=True)"
   ]
  },
  {
   "cell_type": "code",
   "execution_count": 18,
   "metadata": {},
   "outputs": [
    {
     "name": "stdout",
     "output_type": "stream",
     "text": [
      "train_score 0.7548411587892369\n",
      "test_score 0.6909226196991024\n",
      "train_score 0.7548998919722248\n",
      "test_score 0.6882762980304117\n",
      "train_score 0.7576880058006296\n",
      "test_score 0.6874277879057282\n",
      "train_score 0.7572579727307217\n",
      "test_score 0.6819277184446418\n",
      "train_score 0.7560137043334263\n",
      "test_score 0.6902022934668497\n"
     ]
    }
   ],
   "source": [
    "for train_indices, test_indices in kf.split(X, y):\n",
    "    X_train, X_val = X.iloc[train_indices], X.iloc[test_indices]\n",
    "    y_train, y_val = y.iloc[train_indices], y.iloc[test_indices]\n",
    "    lgbmc = lgb.LGBMClassifier(mobjective='binary',\n",
    "                               max_depth=47, learning_rate=0.05,\n",
    "                               n_estimators=500, class_weight='balanced',\n",
    "                               subsample=0.8,\n",
    "                               colsample_bytree=0.8,\n",
    "                               random_state=42,\n",
    "                               importance_type='gain',\n",
    "                               reg_alpha=100,\n",
    "                               reg_lambda=80)\n",
    "    model = lgbmc.fit(X_train, y_train)\n",
    "    y_pred_train = model.predict(X_train)\n",
    "    score_train = roc_auc_score(y_train, y_pred_train)\n",
    "    print(f'train_score {score_train}')   \n",
    "    y_pred_val = model.predict(X_val)\n",
    "    score_val = roc_auc_score(y_val, y_pred_val)\n",
    "    print(f'test_score {score_val}')"
   ]
  },
  {
   "cell_type": "code",
   "execution_count": null,
   "metadata": {},
   "outputs": [],
   "source": [
    "### "
   ]
  },
  {
   "cell_type": "code",
   "execution_count": 21,
   "metadata": {},
   "outputs": [],
   "source": [
    "cash = pd.read_csv('POS_CASH_balance.csv')"
   ]
  },
  {
   "cell_type": "code",
   "execution_count": 23,
   "metadata": {},
   "outputs": [],
   "source": [
    "with_credit = cash.loc[cash.SK_ID_PREV.isin(list(train.SK_ID_CURR.unique()))]"
   ]
  },
  {
   "cell_type": "code",
   "execution_count": 52,
   "metadata": {},
   "outputs": [],
   "source": [
    "agr_max.to_csv('agr_max_cash', sep=';')\n",
    "agr_mean.to_csv('agr_mean_cash', sep=';')"
   ]
  },
  {
   "cell_type": "code",
   "execution_count": 42,
   "metadata": {},
   "outputs": [],
   "source": [
    "features_max = ['MONTHS_BALANCE', 'SK_DPD', 'CNT_INSTALMENT', 'SK_DPD_DEF', 'CNT_INSTALMENT_FUTURE']\n",
    "features_mean = ['MONTHS_BALANCE', 'SK_DPD', 'CNT_INSTALMENT', 'SK_DPD_DEF']"
   ]
  },
  {
   "cell_type": "code",
   "execution_count": 43,
   "metadata": {},
   "outputs": [],
   "source": [
    "agr_max = agt.aggregate_min_value(cash, features_max, 'SK_ID_PREV')\n",
    "agr_mean = agt.aggregate_min_value(cash, features_mean, 'SK_ID_PREV')"
   ]
  },
  {
   "cell_type": "code",
   "execution_count": 44,
   "metadata": {},
   "outputs": [],
   "source": [
    "max_df = create_data_aggregation(with_credit, agr_max, 'SK_ID_PREV')"
   ]
  },
  {
   "cell_type": "code",
   "execution_count": 45,
   "metadata": {},
   "outputs": [],
   "source": [
    "mean_df = create_data_aggregation(with_credit, agr_mean, 'SK_ID_PREV')"
   ]
  },
  {
   "cell_type": "code",
   "execution_count": 50,
   "metadata": {},
   "outputs": [],
   "source": [
    "df1 = df4.merge(mean_df, on='SK_ID_PREV', how='left')"
   ]
  },
  {
   "cell_type": "code",
   "execution_count": 51,
   "metadata": {},
   "outputs": [],
   "source": [
    "df2 = df1.merge(max_df, on='SK_ID_PREV', how='left')"
   ]
  },
  {
   "cell_type": "code",
   "execution_count": 53,
   "metadata": {},
   "outputs": [],
   "source": [
    "X = df2.drop(columns=['SK_ID_CURR', 'Target'])\n",
    "y = df2['Target']"
   ]
  },
  {
   "cell_type": "code",
   "execution_count": 55,
   "metadata": {},
   "outputs": [
    {
     "name": "stdout",
     "output_type": "stream",
     "text": [
      "train_score 0.7368276316274155\n",
      "test_score 0.6997860867051391\n",
      "train_score 0.7382359379934623\n",
      "test_score 0.6926963790607412\n",
      "train_score 0.7391677515259486\n",
      "test_score 0.6920094543071849\n",
      "train_score 0.7380471431517751\n",
      "test_score 0.6830863128886376\n",
      "train_score 0.7386283006394263\n",
      "test_score 0.687491545869337\n"
     ]
    }
   ],
   "source": [
    "for train_indices, test_indices in kf.split(X, y):\n",
    "    X_train, X_val = X.iloc[train_indices], X.iloc[test_indices]\n",
    "    y_train, y_val = y.iloc[train_indices], y.iloc[test_indices]\n",
    "    lgbmc = lgb.LGBMClassifier(mobjective='binary',\n",
    "                               max_depth=50, learning_rate=0.05,\n",
    "                               n_estimators=300, class_weight='balanced',\n",
    "                               subsample=0.8,\n",
    "                               colsample_bytree=0.8,\n",
    "                               random_state=42,\n",
    "                               importance_type='gain',\n",
    "                               reg_alpha=100,\n",
    "                               reg_lambda=80)\n",
    "    model = lgbmc.fit(X_train, y_train)\n",
    "    y_pred_train = model.predict(X_train)\n",
    "    score_train = roc_auc_score(y_train, y_pred_train)\n",
    "    print(f'train_score {score_train}')   \n",
    "    y_pred_val = model.predict(X_val)\n",
    "    score_val = roc_auc_score(y_val, y_pred_val)\n",
    "    print(f'test_score {score_val}')"
   ]
  },
  {
   "cell_type": "code",
   "execution_count": null,
   "metadata": {},
   "outputs": [],
   "source": [
    "# Все равно модель неустойчива."
   ]
  }
 ],
 "metadata": {
  "kernelspec": {
   "display_name": "Python 3",
   "language": "python",
   "name": "python3"
  },
  "language_info": {
   "codemirror_mode": {
    "name": "ipython",
    "version": 3
   },
   "file_extension": ".py",
   "mimetype": "text/x-python",
   "name": "python",
   "nbconvert_exporter": "python",
   "pygments_lexer": "ipython3",
   "version": "3.6.9"
  }
 },
 "nbformat": 4,
 "nbformat_minor": 2
}
