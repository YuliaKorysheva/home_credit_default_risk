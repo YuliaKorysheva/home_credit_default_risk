{
 "cells": [
  {
   "cell_type": "code",
   "execution_count": 3,
   "metadata": {},
   "outputs": [],
   "source": [
    "import pandas as pd\n",
    "import warnings\n",
    "warnings.filterwarnings(\"ignore\")\n",
    "import numpy as np\n",
    "\n",
    "from category_encoders.target_encoder import TargetEncoder\n",
    "from sklearn.metrics import roc_auc_score\n",
    "from sklearn.model_selection import train_test_split\n",
    "from sklearn.model_selection import StratifiedKFold\n",
    "import lightgbm as lgb"
   ]
  },
  {
   "cell_type": "code",
   "execution_count": 4,
   "metadata": {},
   "outputs": [],
   "source": [
    "train = pd.read_csv('train_base.csv', sep=';')\n",
    "test = pd.read_csv('test_base.csv', sep=';') "
   ]
  },
  {
   "cell_type": "code",
   "execution_count": 5,
   "metadata": {},
   "outputs": [],
   "source": [
    "from analytics import Analysis as als"
   ]
  },
  {
   "cell_type": "code",
   "execution_count": 6,
   "metadata": {},
   "outputs": [],
   "source": [
    "bureau = pd.read_csv('bureau.csv')"
   ]
  },
  {
   "cell_type": "code",
   "execution_count": 7,
   "metadata": {},
   "outputs": [
    {
     "data": {
      "text/plain": [
       "['SK_ID_CURR',\n",
       " 'SK_ID_BUREAU',\n",
       " 'CREDIT_ACTIVE',\n",
       " 'CREDIT_CURRENCY',\n",
       " 'DAYS_CREDIT',\n",
       " 'CREDIT_DAY_OVERDUE',\n",
       " 'DAYS_CREDIT_ENDDATE',\n",
       " 'DAYS_ENDDATE_FACT',\n",
       " 'AMT_CREDIT_MAX_OVERDUE',\n",
       " 'CNT_CREDIT_PROLONG',\n",
       " 'AMT_CREDIT_SUM',\n",
       " 'AMT_CREDIT_SUM_DEBT',\n",
       " 'AMT_CREDIT_SUM_LIMIT',\n",
       " 'AMT_CREDIT_SUM_OVERDUE',\n",
       " 'CREDIT_TYPE',\n",
       " 'DAYS_CREDIT_UPDATE',\n",
       " 'AMT_ANNUITY']"
      ]
     },
     "execution_count": 7,
     "metadata": {},
     "output_type": "execute_result"
    }
   ],
   "source": [
    "list(bureau)"
   ]
  },
  {
   "cell_type": "code",
   "execution_count": 8,
   "metadata": {},
   "outputs": [
    {
     "data": {
      "text/plain": [
       "(1716428, 17)"
      ]
     },
     "execution_count": 8,
     "metadata": {},
     "output_type": "execute_result"
    }
   ],
   "source": [
    "bureau.shape"
   ]
  },
  {
   "cell_type": "code",
   "execution_count": 9,
   "metadata": {},
   "outputs": [
    {
     "data": {
      "text/plain": [
       "AMT_ANNUITY               1226791\n",
       "AMT_CREDIT_MAX_OVERDUE    1124488\n",
       "DAYS_ENDDATE_FACT          633653\n",
       "AMT_CREDIT_SUM_LIMIT       591780\n",
       "AMT_CREDIT_SUM_DEBT        257669\n",
       "DAYS_CREDIT_ENDDATE        105553\n",
       "AMT_CREDIT_SUM                 13\n",
       "CREDIT_TYPE                     0\n",
       "AMT_CREDIT_SUM_OVERDUE          0\n",
       "CNT_CREDIT_PROLONG              0\n",
       "dtype: int64"
      ]
     },
     "execution_count": 9,
     "metadata": {},
     "output_type": "execute_result"
    }
   ],
   "source": [
    "als.check_missing_values(bureau, 10, 0)"
   ]
  },
  {
   "cell_type": "code",
   "execution_count": 10,
   "metadata": {},
   "outputs": [
    {
     "data": {
      "text/plain": [
       "793046     6\n",
       "773821     6\n",
       "871866     6\n",
       "468959     6\n",
       "701505     6\n",
       "871863     6\n",
       "1291779    6\n",
       "552590     6\n",
       "311889     6\n",
       "1315567    6\n",
       "1174161    6\n",
       "871824     6\n",
       "871823     6\n",
       "311862     6\n",
       "1011092    6\n",
       "dtype: int64"
      ]
     },
     "execution_count": 10,
     "metadata": {},
     "output_type": "execute_result"
    }
   ],
   "source": [
    "als.check_missing_values(bureau, 15, 1)"
   ]
  },
  {
   "cell_type": "code",
   "execution_count": 11,
   "metadata": {},
   "outputs": [
    {
     "name": "stdout",
     "output_type": "stream",
     "text": [
      "SK_ID_CURR <class 'numpy.int64'> [215354 162297 402440 ... 448157 345866 235871]\n",
      "SK_ID_BUREAU <class 'numpy.int64'> [5714462 5714463 5714464 ... 5057762 5057770 5057778]\n",
      "CREDIT_ACTIVE <class 'str'> ['Closed' 'Active' 'Sold' 'Bad debt']\n",
      "CREDIT_CURRENCY <class 'str'> ['currency 1' 'currency 2' 'currency 4' 'currency 3']\n",
      "DAYS_CREDIT <class 'numpy.int64'> [-497 -208 -203 ...    0   -3   -1]\n",
      "CREDIT_DAY_OVERDUE <class 'numpy.int64'> [   0 2603    6   30 2156  496  186 2264   41    8   71   13  252 1201\n",
      "   12   38 1777  150   18   37   64 2050    9    4   29   22   49 1930\n",
      "   34  951  936  664   45 2625  837   21   15   31 1715   19   67    7\n",
      "   26   23   48   46   73   90 1127   53   33 1572   39 2582   14   25\n",
      "   10   50   17  193   40   20   28  123  138  700  122 1504   32  670\n",
      "   75  140   24  277 2019  161  962  187   58  106  634   83  120   60\n",
      "   93 1694  227   44  344 2085 1248  124 1651 2541 1541  642  745  163\n",
      "  234 1472  688 2455  614  319 2187   68  831  139  283  180   47  164\n",
      "  174 1604 1326 2149   36   62  753  374 1573 1562 2400   35  860   11\n",
      "  776  520   77 1892 1786   80 2310 2383  136  264  131    5 2571 1579\n",
      "  198 2534 2292   63   72 2238 1475 2614  107    3 1195  990 1430  242\n",
      "  249   16  648  659  100 2210 2249   57  672 2765   52 1899  676   43\n",
      "   27  288   69 1222 2246  108  149 1087  212  256  192  211 2476  144\n",
      "  141  650  110  372  948  651 1674 2188   76 2620   82  117 1428 2481\n",
      "  104  216   91  618  635 2133 1409  226 1903 2592  338  155 2041   42\n",
      "   54  143 1632  625  132  225  890  165  241 1747   78  719 1760  152\n",
      " 1714  363 1406 1032 1307   66  477 1058   88  621 2463   81 1501  669\n",
      " 1727  102   84  103  418  586 2364 2693 1272 2524 2030 1729 2069  171\n",
      " 1417 2527  668 2129    2 2537  175  199  356   56 1761 1704  433   61\n",
      "  209  652 1769 1455  893  183 1142 1172 1695  126 1319  817 1077 1862\n",
      " 1601 1482 1018 2349 2312 1100   99 1620   98   55   59 2442  646 2499\n",
      "  865 2234   51 2331 1150 1179   79 1072  819  480 2384   85  895 1062\n",
      "  245 1554  127 1796 1506    1  114 2141   86 2195  237  592  388 2640\n",
      " 2610 2282 1982  397 1118  458 1097  159 2544  952 1973   97 1591 1650\n",
      "  653 1678  172 1529 2586  612  879  101 1240 1038 1587  157 1381 1088\n",
      "  691 2602  345  748 1881 1474  986  208 1000  639 1403  640  328 2270\n",
      "   65  128  276 2078  846  907  632 1452 2638  686 1036   74 1244  552\n",
      " 1774 1763 2700  870  204 2456  177 2580  610  638   87  210  943 1927\n",
      " 2184 2165  671 1733 2685 2243 2585 2466 2254 1590  195 2397 2595   94\n",
      "  677  666  105  235  366  273  142 2770 2679 2379  445  724 2121 1921\n",
      " 1814  221  403  243 2137  296 1011 1637  991 1829 1162 1684 1857  364\n",
      " 2317  334  285  588  649  224 1499 1680  689 1512 2644  981 1997  213\n",
      " 1826 2542 1570  219  244  611 1445  188  278  707 2193  179 2299 1919\n",
      " 2092 1770 2599 2340  166 1275 1540 1469 2354 1671  169 2348 1233  752\n",
      "  160  493 1047 1845 1206  738 1943 2347 2473  718 2629 2134  872 2168\n",
      " 2080  268 2781   95  547 1835  115   70 2598  730 1681 2703 2324 2289\n",
      "  190 2028 1618   89 2581  153 1764 2609 2395 2529 2652  135  414  206\n",
      "  953  605 2108 1719 2565 2623  147  932 2754 1232 1178 2138 1199 2574\n",
      "   92  238 1001  312  214 1468  934 2657  337 2279 1074  519 1075  641\n",
      "  473  341  321 1051 2286 1226 1338 2275  960 1061  158  373  673 2391\n",
      " 2221  429 2018  130 1993 2034 2358  112  326 2484 2616 1947 1742 1631\n",
      " 1629  544 1463 1073 2048 1049  220  643  615  154  423 2217 1682 1131\n",
      " 1086 2553  606 2071 2684  761 1009  358 2440  476 2513  232  630 1055\n",
      "  133 1667  113 1875  441  768  181 1397 2332 1737 1290  148 1635  680\n",
      "  714 1325 1521 1522 2059 1724 1313 1740 2277 1352  994 1104 2776 2211\n",
      " 1042 2325 2600  426 2552  877 1670 1711  733  119 2656 2360 1235 1093\n",
      " 1031 1197 2290  920 1887 1530 2117 2591  927  265  737 2464 1644  685\n",
      "  723 2677 2588  647  631 1350  325  550 2212  756 1939 1167  362  251\n",
      " 2058  891  781 1502 1205  931  944  121  525 1116 1068  747  472 1285\n",
      "  452  619 2164  368 1524 2214 1907 1759  280 1274  969 1363 2335  303\n",
      " 1936 1247 1552 1177  938  261  910  170  996 1252  827 1736  679  982\n",
      "  731  720  674  919 1388  717 2029 2631 2502 2298  830 1638  146 2649\n",
      "  915  247  806 1634 2252 1200 1218 1408  413 2295 2667  537  616 1364\n",
      "  422 2353 2066  599  656 2474 2637  437 2643 2201 2175  289 1189 2661\n",
      "  109 2338 1776  348 2102 2053  314  974  985  292 2099  810 1813 1334\n",
      " 1095  137 1489  125 1253 1548  502  848 2258 1720 1804 1299  455 1194\n",
      "  189  929 1706  584  942 1420 1213  134  290  269 2272  657 1766  217\n",
      " 2128  408 1822 2627  593  129  231  178 1020  191 2577  485 1961  406\n",
      " 1503 1703 2057 2641  795 1901 2093 1752  320  317 1255 1523 2228  933\n",
      " 2766 1612  995  162 1843  694 2176  168 1648 2606 1209 1505  514 1797\n",
      "  116 2546 2146  504 1755 1692 1722  200   96 2157  531 1962 1480  743\n",
      " 2688 1588 1402  284  440  678 2280 1171  629  467 1135  786  976 1393\n",
      " 2545 1161 2394 1404  176 2220 1183 2497 1972  873  299  787 1156  118\n",
      " 1739 1060 2426 2604 2792  883 2355 2061 1584  465 1556 2301  275 1859\n",
      "  184 1546  687  439 2634 2540  291 1496 1514 1193 2639 2608 2651 1754\n",
      " 1918 1858 1298  554  876  323 2528 2681 2496 2109  324  765 2256 1278\n",
      " 2284 2536 1693 1398 1912  826 2107  167  515  407 1863  460 1158  727\n",
      " 1610 2204 2654 1931]\n",
      "DAYS_CREDIT_ENDDATE <class 'numpy.float64'> [-153. 1075.  528. ... 5922. 3835. 5650.]\n",
      "DAYS_ENDDATE_FACT <class 'numpy.float64'> [ -153.    nan -1710. ... -2919. -3042. -2891.]\n",
      "AMT_CREDIT_MAX_OVERDUE <class 'numpy.float64'> [      nan 77674.5       0.    ...   173.07  11317.59   5693.625]\n",
      "CNT_CREDIT_PROLONG <class 'numpy.int64'> [0 2 1 4 3 5 9 8 6 7]\n",
      "AMT_CREDIT_SUM <class 'numpy.float64'> [ 91323.   225000.   464323.5  ...  77861.43 112204.35 108765.72]\n",
      "AMT_CREDIT_SUM_DEBT <class 'numpy.float64'> [      0.     171342.            nan ...  830860.875  146502.\n",
      " 1092226.5  ]\n",
      "AMT_CREDIT_SUM_LIMIT <class 'numpy.float64'> [       nan 108982.62       0.    ...  10398.15   10617.75  135035.865]\n",
      "AMT_CREDIT_SUM_OVERDUE <class 'numpy.float64'> [    0.      231.525   288.    ...   804.735 22581.      352.62 ]\n",
      "CREDIT_TYPE <class 'str'> ['Consumer credit' 'Credit card' 'Mortgage' 'Car loan' 'Microloan'\n",
      " 'Loan for working capital replenishment' 'Loan for business development'\n",
      " 'Real estate loan' 'Unknown type of loan' 'Another type of loan'\n",
      " 'Cash loan (non-earmarked)' 'Loan for the purchase of equipment'\n",
      " 'Mobile operator loan' 'Interbank credit'\n",
      " 'Loan for purchase of shares (margin lending)']\n",
      "DAYS_CREDIT_UPDATE <class 'numpy.int64'> [  -131    -20    -16 ...  -2901 -41918  -2844]\n",
      "AMT_ANNUITY <class 'numpy.float64'> [      nan     0.     2691.    ...  7681.95   4482.585 24351.435]\n"
     ]
    }
   ],
   "source": [
    "als.get_unique_value(bureau, None)"
   ]
  },
  {
   "cell_type": "markdown",
   "metadata": {},
   "source": [
    "# Анализ данных"
   ]
  },
  {
   "cell_type": "markdown",
   "metadata": {},
   "source": [
    "## Категориальные признаки:\n",
    "### Агрегирование:\n",
    "#### Для агрегирования категориальных признаков можно попробовать создать признаки для каждого значения категориальных фичей (признак_категория_i) и присвоить ему количество данных категорий для каждого клиента. Также можно упорядочить статус кредита и подсчитать среднее значение (не стоит считать сумму, так как у всех клиентов разное количество строк и результаты будут искажаться)\n",
    "\n",
    "#### CREDIT_ACTIVE - статус кредита\n",
    "\n",
    "#### CREDIT_CURRENCY - валюта кредита\n",
    "\n",
    "#### CREDIT_TYPE - тип кредита \n",
    "\n",
    "\n",
    "## Числовые признаки: \n",
    "### Агрегирование:\n",
    "#### Для агрегирования числовых признаков можно создавать признаки с минимальным, средним и максимальным значение для каждого клиента. \n",
    "\n",
    "#### SK_ID_CURR - номер клиента\n",
    "\n",
    "#### SK_ID_BUREAU - номер заявки\n",
    "\n",
    "#### DAYS_CREDIT - количество прошедших дней с подачи заявки в отношении текущей заявки\n",
    "\n",
    "#### CREDIT_DAY_OVERDUE - количество просроченных дней\n",
    "\n",
    "#### DAYS_CREDIT_ENDDATE - количество дней, в течении которых кредит действителен \n",
    "\n",
    "#### DAYS_ENDDATE_FACT - количество дней с момента окончания срока кредита \n",
    "\n",
    "#### AMT_CREDIT_MAX_OVERDUE - максимальная задолженность по кредиту\n",
    "\n",
    "#### CNT_CREDIT_PROLONG - сколько раз была продлена дата до погашения\n",
    "\n",
    "#### AMT_CREDIT_SUM - сумма кредитов\n",
    "\n",
    "#### AMT_CREDIT_SUM_DEBT - сумма задолженностей\n",
    "\n",
    "#### AMT_CREDIT_SUM_LIMIT - текущий кредит\n",
    "\n",
    "#### AMT_CREDIT_SUM_OVERDUE - текущий просроченный платеж по кредиту\n",
    "\n",
    "#### DAYS_CREDIT_UPDATE - количество дней, когда было получено последнее обновление по кредиту\n",
    "\n",
    "#### AMT_ANNUITY - аннуитет данных кредитных бюро. "
   ]
  },
  {
   "cell_type": "code",
   "execution_count": 12,
   "metadata": {},
   "outputs": [],
   "source": [
    "from treatment import ProcessingOmissions as pso"
   ]
  },
  {
   "cell_type": "code",
   "execution_count": 13,
   "metadata": {},
   "outputs": [],
   "source": [
    "feature_str, feature_int = als.get_lists_type_feature(bureau, list(bureau))"
   ]
  },
  {
   "cell_type": "code",
   "execution_count": 14,
   "metadata": {},
   "outputs": [],
   "source": [
    "from aggregation import AggregationData as agd"
   ]
  },
  {
   "cell_type": "code",
   "execution_count": 127,
   "metadata": {},
   "outputs": [],
   "source": [
    "agr_str = aggregation_categorical_feature(bureau, feature_str)"
   ]
  },
  {
   "cell_type": "code",
   "execution_count": 24,
   "metadata": {},
   "outputs": [],
   "source": []
  },
  {
   "cell_type": "code",
   "execution_count": null,
   "metadata": {},
   "outputs": [],
   "source": []
  },
  {
   "cell_type": "code",
   "execution_count": null,
   "metadata": {},
   "outputs": [],
   "source": []
  }
 ],
 "metadata": {
  "kernelspec": {
   "display_name": "Python 3",
   "language": "python",
   "name": "python3"
  },
  "language_info": {
   "codemirror_mode": {
    "name": "ipython",
    "version": 3
   },
   "file_extension": ".py",
   "mimetype": "text/x-python",
   "name": "python",
   "nbconvert_exporter": "python",
   "pygments_lexer": "ipython3",
   "version": "3.6.9"
  }
 },
 "nbformat": 4,
 "nbformat_minor": 2
}
