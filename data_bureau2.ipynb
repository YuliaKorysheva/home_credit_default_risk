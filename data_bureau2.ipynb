{
 "cells": [
  {
   "cell_type": "code",
   "execution_count": 1,
   "metadata": {},
   "outputs": [],
   "source": [
    "import pandas as pd\n",
    "import warnings\n",
    "warnings.filterwarnings(\"ignore\")\n",
    "import numpy as np\n",
    "\n",
    "from category_encoders.target_encoder import TargetEncoder\n",
    "from sklearn.metrics import roc_auc_score\n",
    "from sklearn.model_selection import train_test_split\n",
    "from sklearn.model_selection import StratifiedKFold\n",
    "import lightgbm as lgb"
   ]
  },
  {
   "cell_type": "code",
   "execution_count": 2,
   "metadata": {},
   "outputs": [],
   "source": [
    "train = pd.read_csv('train_base.csv', sep=';')\n",
    "test = pd.read_csv('test_base.csv', sep=';')"
   ]
  },
  {
   "cell_type": "code",
   "execution_count": 3,
   "metadata": {},
   "outputs": [],
   "source": [
    "bureau = pd.read_csv('bureau.csv')"
   ]
  },
  {
   "cell_type": "code",
   "execution_count": 4,
   "metadata": {},
   "outputs": [],
   "source": [
    "bureau_balance = pd.read_csv('bureau_balance.csv')"
   ]
  },
  {
   "cell_type": "code",
   "execution_count": 5,
   "metadata": {},
   "outputs": [],
   "source": [
    "import aggregation as agt"
   ]
  },
  {
   "cell_type": "code",
   "execution_count": 6,
   "metadata": {},
   "outputs": [],
   "source": [
    "# Аргрегирование:\n",
    "features_min = ['DAYS_CREDIT', 'DAYS_CREDIT_ENDDATE', 'AMT_CREDIT_SUM']\n",
    "features_max = ['DAYS_CREDIT', 'DAYS_CREDIT_ENDDATE', 'CREDIT_DAY_OVERDUE', 'AMT_CREDIT_SUM', \n",
    "                'AMT_CREDIT_SUM_DEBT', 'AMT_ANNUITY']\n",
    "features_mean = ['DAYS_CREDIT', 'DAYS_CREDIT_ENDDATE', 'DAYS_CREDIT_UPDATE', 'CREDIT_DAY_OVERDUE',\n",
    "                'AMT_CREDIT_MAX_OVERDUE', 'AMT_CREDIT_SUM_DEBT', 'AMT_CREDIT_SUM_OVERDUE',\n",
    "                'AMT_CREDIT_SUM_LIMIT', 'AMT_ANNUITY']\n",
    "features_sum = ['CNT_CREDIT_PROLONG', 'AMT_CREDIT_SUM_LIMIT', 'AMT_CREDIT_SUM_DEBT',\n",
    "              'AMT_CREDIT_SUM']"
   ]
  },
  {
   "cell_type": "code",
   "execution_count": null,
   "metadata": {},
   "outputs": [],
   "source": [
    "agr_min = agt.aggregate_min_value(bureau, features_min)"
   ]
  },
  {
   "cell_type": "code",
   "execution_count": null,
   "metadata": {},
   "outputs": [],
   "source": [
    "agr_max = agt.aggregate_min_value(bureau, features_max)"
   ]
  },
  {
   "cell_type": "code",
   "execution_count": null,
   "metadata": {},
   "outputs": [],
   "source": [
    "agr_mean = agt.aggregate_min_value(bureau, features_mean)"
   ]
  },
  {
   "cell_type": "code",
   "execution_count": null,
   "metadata": {},
   "outputs": [],
   "source": [
    "agr_sum = agt.aggregate_min_value(bureau, features_sum)"
   ]
  },
  {
   "cell_type": "code",
   "execution_count": 34,
   "metadata": {},
   "outputs": [],
   "source": [
    "agr_min.to_csv('agr_min', sep=';')\n",
    "agr_max.to_csv('agr_max', sep=';')\n",
    "agr_mean.to_csv('agr_mean', sep=';')\n",
    "agr_sum.to_csv('agr_sum', sep=';')"
   ]
  },
  {
   "cell_type": "code",
   "execution_count": 7,
   "metadata": {},
   "outputs": [],
   "source": [
    "agr_min = pd.read_csv('agr_min', sep=';')\n",
    "agr_max = pd.read_csv('agr_max', sep=';')\n",
    "agr_mean = pd.read_csv('agr_mean', sep=';')\n",
    "agr_sum = pd.read_csv('agr_sum', sep=';')"
   ]
  },
  {
   "cell_type": "code",
   "execution_count": null,
   "metadata": {},
   "outputs": [],
   "source": [
    "#'MONTHS_BALANCE_MIN': ['min'],\n",
    "#'MONTHS_BALANCE_MAX': ['max'],\n",
    "#'MONTHS_BALANCE_SIZE': ['mean', 'sum']"
   ]
  },
  {
   "cell_type": "markdown",
   "metadata": {},
   "source": [
    "## Категориальные признаки:\n",
    "### Агрегирование:\n",
    "#### Для агрегирования категориальных признаков можно попробовать создать признаки для каждого значения категориальных фичей (признак_категория_i) и присвоить ему количество данных категорий для каждого клиента. Также можно упорядочить статус кредита и подсчитать среднее значение (не стоит считать сумму, так как у всех клиентов разное количество строк и результаты будут искажаться)\n",
    "\n",
    "#### CREDIT_ACTIVE - статус кредита\n",
    "\n",
    "#### CREDIT_CURRENCY - валюта кредита\n",
    "\n",
    "#### CREDIT_TYPE - тип кредита \n",
    "\n",
    "\n",
    "## Числовые признаки: \n",
    "### Агрегирование:\n",
    "#### Для агрегирования числовых признаков можно создавать признаки с минимальным, средним и максимальным значение для каждого клиента. \n",
    "\n",
    "#### SK_ID_CURR - номер клиента\n",
    "\n",
    "#### SK_ID_BUREAU - номер заявки\n",
    "\n",
    "#### DAYS_CREDIT - количество прошедших дней с подачи заявки в отношении текущей заявки\n",
    "\n",
    "#### CREDIT_DAY_OVERDUE - количество просроченных дней\n",
    "\n",
    "#### DAYS_CREDIT_ENDDATE - количество дней, в течении которых кредит действителен \n",
    "\n",
    "#### DAYS_ENDDATE_FACT - количество дней с момента окончания срока кредита \n",
    "\n",
    "#### AMT_CREDIT_MAX_OVERDUE - максимальная задолженность по кредиту\n",
    "\n",
    "#### CNT_CREDIT_PROLONG - сколько раз была продлена дата до погашения\n",
    "\n",
    "#### AMT_CREDIT_SUM - сумма кредитов\n",
    "\n",
    "#### AMT_CREDIT_SUM_DEBT - сумма задолженностей\n",
    "\n",
    "#### AMT_CREDIT_SUM_LIMIT - текущий кредит\n",
    "\n",
    "#### AMT_CREDIT_SUM_OVERDUE - текущий просроченный платеж по кредиту\n",
    "\n",
    "#### DAYS_CREDIT_UPDATE - количество дней, когда было получено последнее обновление по кредиту\n",
    "\n",
    "#### AMT_ANNUITY - аннуитет данных кредитных бюро. "
   ]
  },
  {
   "cell_type": "code",
   "execution_count": 8,
   "metadata": {},
   "outputs": [],
   "source": [
    "def create_data_aggregation(data, data_agr, feature):\n",
    "    without_credit = list(set(data[feature]) - set(data_agr[feature]))\n",
    "    empty_df = pd.DataFrame(np.nan, index=without_credit, columns=list(data_agr))\n",
    "    empty_df.fillna(9999, inplace=True)\n",
    "    empty_df['dummy_credit_history'] = 0\n",
    "    data_agr['dummy_credit_history'] = 1\n",
    "    features = pd.concat([empty_df, data_agr])\n",
    "    features[feature] = features.index\n",
    "    \n",
    "    return features"
   ]
  },
  {
   "cell_type": "code",
   "execution_count": 9,
   "metadata": {},
   "outputs": [],
   "source": [
    "with_credit = bureau.loc[bureau.SK_ID_CURR.isin(list(train.SK_ID_CURR.unique()))]"
   ]
  },
  {
   "cell_type": "code",
   "execution_count": 10,
   "metadata": {},
   "outputs": [],
   "source": [
    "min_df = create_data_aggregation(with_credit, agr_min, 'SK_ID_CURR')"
   ]
  },
  {
   "cell_type": "code",
   "execution_count": 11,
   "metadata": {},
   "outputs": [],
   "source": [
    "sum_df = create_data_aggregation(with_credit, agr_sum, 'SK_ID_CURR')"
   ]
  },
  {
   "cell_type": "code",
   "execution_count": 12,
   "metadata": {},
   "outputs": [],
   "source": [
    "max_df = create_data_aggregation(with_credit, agr_max, 'SK_ID_CURR')"
   ]
  },
  {
   "cell_type": "code",
   "execution_count": 13,
   "metadata": {},
   "outputs": [],
   "source": [
    "mean_df = create_data_aggregation(with_credit, agr_mean, 'SK_ID_CURR')"
   ]
  },
  {
   "cell_type": "code",
   "execution_count": 14,
   "metadata": {},
   "outputs": [],
   "source": [
    "df1 = train.merge(min_df, on='SK_ID_CURR', how='left')"
   ]
  },
  {
   "cell_type": "code",
   "execution_count": 15,
   "metadata": {},
   "outputs": [],
   "source": [
    "df2 = df1.merge(sum_df, on='SK_ID_CURR', how='left')"
   ]
  },
  {
   "cell_type": "code",
   "execution_count": 16,
   "metadata": {},
   "outputs": [],
   "source": [
    "df3 = df2.merge(max_df, on='SK_ID_CURR', how='left')"
   ]
  },
  {
   "cell_type": "code",
   "execution_count": 17,
   "metadata": {},
   "outputs": [],
   "source": [
    "df4 = df3.merge(mean_df, on='SK_ID_CURR', how='left')"
   ]
  },
  {
   "cell_type": "code",
   "execution_count": null,
   "metadata": {},
   "outputs": [],
   "source": [
    "# С добавлением нижних фичей ничего не поменялось. Пробовала с ними и без них "
   ]
  },
  {
   "cell_type": "code",
   "execution_count": 18,
   "metadata": {},
   "outputs": [],
   "source": [
    "df4['DAYS_EMPLOYED'].replace(365243, np.nan, inplace= True)"
   ]
  },
  {
   "cell_type": "code",
   "execution_count": 19,
   "metadata": {},
   "outputs": [],
   "source": [
    "df4['DAYS_EMPLOYED_PERC'] = df4['DAYS_EMPLOYED'] / df4['DAYS_BIRTH']\n",
    "df4['INCOME_CREDIT_PERC'] = df4['AMT_INCOME_TOTAL'] / df4['AMT_CREDIT']\n",
    "df4['INCOME_PER_PERSON'] = df4['AMT_INCOME_TOTAL'] / df4['CNT_FAM_MEMBERS']\n",
    "df4['ANNUITY_INCOME_PERC'] = df4['AMT_ANNUITY'] / df4['AMT_INCOME_TOTAL']\n",
    "df4['PAYMENT_RATE'] = df4['AMT_ANNUITY'] / df4['AMT_CREDIT']"
   ]
  },
  {
   "cell_type": "code",
   "execution_count": 44,
   "metadata": {},
   "outputs": [],
   "source": [
    "X = df4.drop(columns=['SK_ID_CURR', 'Target'])\n",
    "y = df4['Target']"
   ]
  },
  {
   "cell_type": "code",
   "execution_count": 35,
   "metadata": {},
   "outputs": [
    {
     "data": {
      "text/plain": [
       "(146794, 134)"
      ]
     },
     "execution_count": 35,
     "metadata": {},
     "output_type": "execute_result"
    }
   ],
   "source": [
    "df4.shape"
   ]
  },
  {
   "cell_type": "code",
   "execution_count": 36,
   "metadata": {},
   "outputs": [],
   "source": [
    "kf = StratifiedKFold(n_splits=5,  shuffle=True)"
   ]
  },
  {
   "cell_type": "code",
   "execution_count": 47,
   "metadata": {},
   "outputs": [
    {
     "name": "stdout",
     "output_type": "stream",
     "text": [
      "train_score 0.7506274339738196\n",
      "test_score 0.6855084602074843\n",
      "train_score 0.7475203116115764\n",
      "test_score 0.6975765869796837\n",
      "train_score 0.7470173275080837\n",
      "test_score 0.6927293501516886\n",
      "train_score 0.7499252657385642\n",
      "test_score 0.6881783493499153\n",
      "train_score 0.7474407770345507\n",
      "test_score 0.705194495477671\n"
     ]
    }
   ],
   "source": [
    "for train_indices, test_indices in kf.split(X, y):\n",
    "    X_train, X_val = X.iloc[train_indices], X.iloc[test_indices]\n",
    "    y_train, y_val = y.iloc[train_indices], y.iloc[test_indices]\n",
    "    lgbmc = lgb.LGBMClassifier(mobjective='binary',\n",
    "                               max_depth=47, learning_rate=0.05,\n",
    "                               n_estimators=300, class_weight='balanced',\n",
    "                               subsample=0.8,\n",
    "                               colsample_bytree=0.8,\n",
    "                               random_state=42,\n",
    "                               importance_type='gain',\n",
    "                               reg_alpha=70,\n",
    "                               reg_lambda=50)\n",
    "    model = lgbmc.fit(X_train, y_train)\n",
    "    y_pred_train = model.predict(X_train)\n",
    "    score_train = roc_auc_score(y_train, y_pred_train)\n",
    "    print(f'train_score {score_train}')   \n",
    "    y_pred_val = model.predict(X_val)\n",
    "    score_val = roc_auc_score(y_val, y_pred_val)\n",
    "    print(f'test_score {score_val}')"
   ]
  },
  {
   "cell_type": "code",
   "execution_count": null,
   "metadata": {},
   "outputs": [],
   "source": [
    "### Модель либо очень сильно переобучается, либо качество никак не меняется. "
   ]
  },
  {
   "cell_type": "code",
   "execution_count": null,
   "metadata": {},
   "outputs": [],
   "source": [
    "### Остальной блок не получилось присоединить, так как памяти не хватает. Ошибка memoryerror"
   ]
  },
  {
   "cell_type": "code",
   "execution_count": 21,
   "metadata": {},
   "outputs": [
    {
     "ename": "MemoryError",
     "evalue": "",
     "output_type": "error",
     "traceback": [
      "\u001b[0;31m---------------------------------------------------------------------------\u001b[0m",
      "\u001b[0;31mMemoryError\u001b[0m                               Traceback (most recent call last)",
      "\u001b[0;32m<ipython-input-21-905adedf3406>\u001b[0m in \u001b[0;36m<module>\u001b[0;34m\u001b[0m\n\u001b[0;32m----> 1\u001b[0;31m \u001b[0mwith_credit\u001b[0m \u001b[0;34m=\u001b[0m \u001b[0mbureau_balance\u001b[0m\u001b[0;34m.\u001b[0m\u001b[0mloc\u001b[0m\u001b[0;34m[\u001b[0m\u001b[0mbureau_balance\u001b[0m\u001b[0;34m.\u001b[0m\u001b[0mSK_ID_BUREAU\u001b[0m\u001b[0;34m.\u001b[0m\u001b[0misin\u001b[0m\u001b[0;34m(\u001b[0m\u001b[0mlist\u001b[0m\u001b[0;34m(\u001b[0m\u001b[0mwith_credit\u001b[0m\u001b[0;34m.\u001b[0m\u001b[0mSK_ID_BUREAU\u001b[0m\u001b[0;34m.\u001b[0m\u001b[0munique\u001b[0m\u001b[0;34m(\u001b[0m\u001b[0;34m)\u001b[0m\u001b[0;34m)\u001b[0m\u001b[0;34m)\u001b[0m\u001b[0;34m]\u001b[0m\u001b[0;34m\u001b[0m\u001b[0;34m\u001b[0m\u001b[0m\n\u001b[0m",
      "\u001b[0;32m~/.local/lib/python3.6/site-packages/pandas/core/series.py\u001b[0m in \u001b[0;36misin\u001b[0;34m(self, values)\u001b[0m\n\u001b[1;32m   4292\u001b[0m         \u001b[0mName\u001b[0m\u001b[0;34m:\u001b[0m \u001b[0manimal\u001b[0m\u001b[0;34m,\u001b[0m \u001b[0mdtype\u001b[0m\u001b[0;34m:\u001b[0m \u001b[0mbool\u001b[0m\u001b[0;34m\u001b[0m\u001b[0;34m\u001b[0m\u001b[0m\n\u001b[1;32m   4293\u001b[0m         \"\"\"\n\u001b[0;32m-> 4294\u001b[0;31m         \u001b[0mresult\u001b[0m \u001b[0;34m=\u001b[0m \u001b[0malgorithms\u001b[0m\u001b[0;34m.\u001b[0m\u001b[0misin\u001b[0m\u001b[0;34m(\u001b[0m\u001b[0mself\u001b[0m\u001b[0;34m,\u001b[0m \u001b[0mvalues\u001b[0m\u001b[0;34m)\u001b[0m\u001b[0;34m\u001b[0m\u001b[0;34m\u001b[0m\u001b[0m\n\u001b[0m\u001b[1;32m   4295\u001b[0m         \u001b[0;32mreturn\u001b[0m \u001b[0mself\u001b[0m\u001b[0;34m.\u001b[0m\u001b[0m_constructor\u001b[0m\u001b[0;34m(\u001b[0m\u001b[0mresult\u001b[0m\u001b[0;34m,\u001b[0m \u001b[0mindex\u001b[0m\u001b[0;34m=\u001b[0m\u001b[0mself\u001b[0m\u001b[0;34m.\u001b[0m\u001b[0mindex\u001b[0m\u001b[0;34m)\u001b[0m\u001b[0;34m.\u001b[0m\u001b[0m__finalize__\u001b[0m\u001b[0;34m(\u001b[0m\u001b[0mself\u001b[0m\u001b[0;34m)\u001b[0m\u001b[0;34m\u001b[0m\u001b[0;34m\u001b[0m\u001b[0m\n\u001b[1;32m   4296\u001b[0m \u001b[0;34m\u001b[0m\u001b[0m\n",
      "\u001b[0;32m~/.local/lib/python3.6/site-packages/pandas/core/algorithms.py\u001b[0m in \u001b[0;36misin\u001b[0;34m(comps, values)\u001b[0m\n\u001b[1;32m    451\u001b[0m             \u001b[0mcomps\u001b[0m \u001b[0;34m=\u001b[0m \u001b[0mcomps\u001b[0m\u001b[0;34m.\u001b[0m\u001b[0mastype\u001b[0m\u001b[0;34m(\u001b[0m\u001b[0mobject\u001b[0m\u001b[0;34m)\u001b[0m\u001b[0;34m\u001b[0m\u001b[0;34m\u001b[0m\u001b[0m\n\u001b[1;32m    452\u001b[0m \u001b[0;34m\u001b[0m\u001b[0m\n\u001b[0;32m--> 453\u001b[0;31m     \u001b[0;32mreturn\u001b[0m \u001b[0mf\u001b[0m\u001b[0;34m(\u001b[0m\u001b[0mcomps\u001b[0m\u001b[0;34m,\u001b[0m \u001b[0mvalues\u001b[0m\u001b[0;34m)\u001b[0m\u001b[0;34m\u001b[0m\u001b[0;34m\u001b[0m\u001b[0m\n\u001b[0m\u001b[1;32m    454\u001b[0m \u001b[0;34m\u001b[0m\u001b[0m\n\u001b[1;32m    455\u001b[0m \u001b[0;34m\u001b[0m\u001b[0m\n",
      "\u001b[0;32m/usr/local/lib/python3.6/dist-packages/numpy/lib/arraysetops.py\u001b[0m in \u001b[0;36min1d\u001b[0;34m(ar1, ar2, assume_unique, invert)\u001b[0m\n\u001b[1;32m    572\u001b[0m     \u001b[0;31m# Otherwise use sorting\u001b[0m\u001b[0;34m\u001b[0m\u001b[0;34m\u001b[0m\u001b[0;34m\u001b[0m\u001b[0m\n\u001b[1;32m    573\u001b[0m     \u001b[0;32mif\u001b[0m \u001b[0;32mnot\u001b[0m \u001b[0massume_unique\u001b[0m\u001b[0;34m:\u001b[0m\u001b[0;34m\u001b[0m\u001b[0;34m\u001b[0m\u001b[0m\n\u001b[0;32m--> 574\u001b[0;31m         \u001b[0mar1\u001b[0m\u001b[0;34m,\u001b[0m \u001b[0mrev_idx\u001b[0m \u001b[0;34m=\u001b[0m \u001b[0mnp\u001b[0m\u001b[0;34m.\u001b[0m\u001b[0munique\u001b[0m\u001b[0;34m(\u001b[0m\u001b[0mar1\u001b[0m\u001b[0;34m,\u001b[0m \u001b[0mreturn_inverse\u001b[0m\u001b[0;34m=\u001b[0m\u001b[0;32mTrue\u001b[0m\u001b[0;34m)\u001b[0m\u001b[0;34m\u001b[0m\u001b[0;34m\u001b[0m\u001b[0m\n\u001b[0m\u001b[1;32m    575\u001b[0m         \u001b[0mar2\u001b[0m \u001b[0;34m=\u001b[0m \u001b[0mnp\u001b[0m\u001b[0;34m.\u001b[0m\u001b[0munique\u001b[0m\u001b[0;34m(\u001b[0m\u001b[0mar2\u001b[0m\u001b[0;34m)\u001b[0m\u001b[0;34m\u001b[0m\u001b[0;34m\u001b[0m\u001b[0m\n\u001b[1;32m    576\u001b[0m \u001b[0;34m\u001b[0m\u001b[0m\n",
      "\u001b[0;32m/usr/local/lib/python3.6/dist-packages/numpy/lib/arraysetops.py\u001b[0m in \u001b[0;36munique\u001b[0;34m(ar, return_index, return_inverse, return_counts, axis)\u001b[0m\n\u001b[1;32m    262\u001b[0m     \u001b[0mar\u001b[0m \u001b[0;34m=\u001b[0m \u001b[0mnp\u001b[0m\u001b[0;34m.\u001b[0m\u001b[0masanyarray\u001b[0m\u001b[0;34m(\u001b[0m\u001b[0mar\u001b[0m\u001b[0;34m)\u001b[0m\u001b[0;34m\u001b[0m\u001b[0;34m\u001b[0m\u001b[0m\n\u001b[1;32m    263\u001b[0m     \u001b[0;32mif\u001b[0m \u001b[0maxis\u001b[0m \u001b[0;32mis\u001b[0m \u001b[0;32mNone\u001b[0m\u001b[0;34m:\u001b[0m\u001b[0;34m\u001b[0m\u001b[0;34m\u001b[0m\u001b[0m\n\u001b[0;32m--> 264\u001b[0;31m         \u001b[0mret\u001b[0m \u001b[0;34m=\u001b[0m \u001b[0m_unique1d\u001b[0m\u001b[0;34m(\u001b[0m\u001b[0mar\u001b[0m\u001b[0;34m,\u001b[0m \u001b[0mreturn_index\u001b[0m\u001b[0;34m,\u001b[0m \u001b[0mreturn_inverse\u001b[0m\u001b[0;34m,\u001b[0m \u001b[0mreturn_counts\u001b[0m\u001b[0;34m)\u001b[0m\u001b[0;34m\u001b[0m\u001b[0;34m\u001b[0m\u001b[0m\n\u001b[0m\u001b[1;32m    265\u001b[0m         \u001b[0;32mreturn\u001b[0m \u001b[0m_unpack_tuple\u001b[0m\u001b[0;34m(\u001b[0m\u001b[0mret\u001b[0m\u001b[0;34m)\u001b[0m\u001b[0;34m\u001b[0m\u001b[0;34m\u001b[0m\u001b[0m\n\u001b[1;32m    266\u001b[0m \u001b[0;34m\u001b[0m\u001b[0m\n",
      "\u001b[0;32m/usr/local/lib/python3.6/dist-packages/numpy/lib/arraysetops.py\u001b[0m in \u001b[0;36m_unique1d\u001b[0;34m(ar, return_index, return_inverse, return_counts)\u001b[0m\n\u001b[1;32m    302\u001b[0m     \u001b[0mFind\u001b[0m \u001b[0mthe\u001b[0m \u001b[0munique\u001b[0m \u001b[0melements\u001b[0m \u001b[0mof\u001b[0m \u001b[0man\u001b[0m \u001b[0marray\u001b[0m\u001b[0;34m,\u001b[0m \u001b[0mignoring\u001b[0m \u001b[0mshape\u001b[0m\u001b[0;34m.\u001b[0m\u001b[0;34m\u001b[0m\u001b[0;34m\u001b[0m\u001b[0m\n\u001b[1;32m    303\u001b[0m     \"\"\"\n\u001b[0;32m--> 304\u001b[0;31m     \u001b[0mar\u001b[0m \u001b[0;34m=\u001b[0m \u001b[0mnp\u001b[0m\u001b[0;34m.\u001b[0m\u001b[0masanyarray\u001b[0m\u001b[0;34m(\u001b[0m\u001b[0mar\u001b[0m\u001b[0;34m)\u001b[0m\u001b[0;34m.\u001b[0m\u001b[0mflatten\u001b[0m\u001b[0;34m(\u001b[0m\u001b[0;34m)\u001b[0m\u001b[0;34m\u001b[0m\u001b[0;34m\u001b[0m\u001b[0m\n\u001b[0m\u001b[1;32m    305\u001b[0m \u001b[0;34m\u001b[0m\u001b[0m\n\u001b[1;32m    306\u001b[0m     \u001b[0moptional_indices\u001b[0m \u001b[0;34m=\u001b[0m \u001b[0mreturn_index\u001b[0m \u001b[0;32mor\u001b[0m \u001b[0mreturn_inverse\u001b[0m\u001b[0;34m\u001b[0m\u001b[0;34m\u001b[0m\u001b[0m\n",
      "\u001b[0;31mMemoryError\u001b[0m: "
     ]
    }
   ],
   "source": [
    "with_credit = bureau_balance.loc[bureau_balance.SK_ID_BUREAU.isin(list(with_credit.SK_ID_BUREAU.unique()))]"
   ]
  },
  {
   "cell_type": "code",
   "execution_count": 11,
   "metadata": {},
   "outputs": [],
   "source": [
    "agr_max = agt.aggregate_min_value(bureau_balance, ['MONTHS_BALANCE'], 'SK_ID_BUREAU')"
   ]
  },
  {
   "cell_type": "code",
   "execution_count": 12,
   "metadata": {},
   "outputs": [],
   "source": [
    "agr_min = agt.aggregate_min_value(bureau_balance, ['MONTHS_BALANCE'], 'SK_ID_BUREAU')"
   ]
  },
  {
   "cell_type": "code",
   "execution_count": 13,
   "metadata": {},
   "outputs": [],
   "source": [
    "agr_mean = agt.aggregate_min_value(bureau_balance, ['MONTHS_BALANCE'], 'SK_ID_BUREAU')"
   ]
  },
  {
   "cell_type": "code",
   "execution_count": 18,
   "metadata": {},
   "outputs": [],
   "source": [
    "agr_max['SK_ID_BUREAU'] = agr_max.index\n",
    "agr_min['SK_ID_BUREAU'] = agr_min.index\n",
    "agr_mean['SK_ID_BUREAU'] = agr_mean.index"
   ]
  },
  {
   "cell_type": "code",
   "execution_count": 21,
   "metadata": {},
   "outputs": [],
   "source": [
    "min_df = create_data_aggregation(with_credit, agr_min, 'SK_ID_BUREAU')\n",
    "max_df = create_data_aggregation(with_credit, agr_max, 'SK_ID_BUREAU')\n",
    "mean_df = create_data_aggregation(with_credit, agr_mean, 'SK_ID_BUREAU')\n",
    "df1 = train.merge(min_df, on='SK_ID_BUREAU', how='left')\n",
    "df3 = df1.merge(max_df, on='SK_ID_BUREAU', how='left')\n",
    "df4 = df3.merge(mean_df, on='SK_ID_BUREAU', how='left')"
   ]
  },
  {
   "cell_type": "code",
   "execution_count": 23,
   "metadata": {},
   "outputs": [],
   "source": [
    "X = df4.drop(columns=['SK_ID_CURR', 'Target', 'SK_ID_BUREAU'])\n",
    "y = df4['Target']"
   ]
  },
  {
   "cell_type": "code",
   "execution_count": null,
   "metadata": {},
   "outputs": [],
   "source": [
    "for train_indices, test_indices in kf.split(X, y):\n",
    "    X_train, X_val = X.iloc[train_indices], X.iloc[test_indices]\n",
    "    y_train, y_val = y.iloc[train_indices], y.iloc[test_indices]\n",
    "    lgbmc = lgb.LGBMClassifier(mobjective='binary',\n",
    "                               max_depth=47, learning_rate=0.02,\n",
    "                               n_estimators=500, class_weight='balanced',\n",
    "                               subsample=0.8,\n",
    "                               colsample_bytree=0.8,\n",
    "                               random_state=42,\n",
    "                               importance_type='gain',\n",
    "                               reg_alpha=70,\n",
    "                               reg_lambda=50)\n",
    "    model = lgbmc.fit(X_train, y_train)\n",
    "    y_pred_train = model.predict(X_train)\n",
    "    score_train = roc_auc_score(y_train, y_pred_train)\n",
    "    print(f'train_score {score_train}')   \n",
    "    y_pred_val = model.predict(X_val)\n",
    "    score_val = roc_auc_score(y_val, y_pred_val)\n",
    "    print(f'test_score {score_val}')"
   ]
  },
  {
   "cell_type": "code",
   "execution_count": 114,
   "metadata": {},
   "outputs": [
    {
     "data": {
      "text/html": [
       "<div>\n",
       "<style scoped>\n",
       "    .dataframe tbody tr th:only-of-type {\n",
       "        vertical-align: middle;\n",
       "    }\n",
       "\n",
       "    .dataframe tbody tr th {\n",
       "        vertical-align: top;\n",
       "    }\n",
       "\n",
       "    .dataframe thead th {\n",
       "        text-align: right;\n",
       "    }\n",
       "</style>\n",
       "<table border=\"1\" class=\"dataframe\">\n",
       "  <thead>\n",
       "    <tr style=\"text-align: right;\">\n",
       "      <th></th>\n",
       "      <th>SK_ID_BUREAU</th>\n",
       "      <th>MONTHS_BALANCE</th>\n",
       "      <th>STATUS</th>\n",
       "    </tr>\n",
       "  </thead>\n",
       "  <tbody>\n",
       "  </tbody>\n",
       "</table>\n",
       "</div>"
      ],
      "text/plain": [
       "Empty DataFrame\n",
       "Columns: [SK_ID_BUREAU, MONTHS_BALANCE, STATUS]\n",
       "Index: []"
      ]
     },
     "execution_count": 114,
     "metadata": {},
     "output_type": "execute_result"
    }
   ],
   "source": []
  },
  {
   "cell_type": "code",
   "execution_count": null,
   "metadata": {},
   "outputs": [],
   "source": []
  }
 ],
 "metadata": {
  "kernelspec": {
   "display_name": "Python 3",
   "language": "python",
   "name": "python3"
  },
  "language_info": {
   "codemirror_mode": {
    "name": "ipython",
    "version": 3
   },
   "file_extension": ".py",
   "mimetype": "text/x-python",
   "name": "python",
   "nbconvert_exporter": "python",
   "pygments_lexer": "ipython3",
   "version": "3.6.9"
  }
 },
 "nbformat": 4,
 "nbformat_minor": 2
}
