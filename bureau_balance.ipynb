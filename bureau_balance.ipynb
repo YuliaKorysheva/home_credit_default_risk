{
 "cells": [
  {
   "cell_type": "code",
   "execution_count": 1,
   "metadata": {},
   "outputs": [],
   "source": [
    "import pandas as pd\n",
    "import warnings\n",
    "warnings.filterwarnings(\"ignore\")\n",
    "import numpy as np\n",
    "\n",
    "from category_encoders.target_encoder import TargetEncoder\n",
    "from sklearn.metrics import roc_auc_score\n",
    "from sklearn.model_selection import train_test_split\n",
    "from sklearn.model_selection import StratifiedKFold\n",
    "import lightgbm as lgbS"
   ]
  },
  {
   "cell_type": "code",
   "execution_count": 2,
   "metadata": {},
   "outputs": [],
   "source": [
    "train = pd.read_csv('train_base.csv', sep=';')\n",
    "test = pd.read_csv('test_base.csv', sep=';') "
   ]
  },
  {
   "cell_type": "code",
   "execution_count": 4,
   "metadata": {},
   "outputs": [],
   "source": [
    "bureau = pd.read_csv('bureau_balance.csv')"
   ]
  },
  {
   "cell_type": "code",
   "execution_count": 5,
   "metadata": {},
   "outputs": [
    {
     "data": {
      "text/html": [
       "<div>\n",
       "<style scoped>\n",
       "    .dataframe tbody tr th:only-of-type {\n",
       "        vertical-align: middle;\n",
       "    }\n",
       "\n",
       "    .dataframe tbody tr th {\n",
       "        vertical-align: top;\n",
       "    }\n",
       "\n",
       "    .dataframe thead th {\n",
       "        text-align: right;\n",
       "    }\n",
       "</style>\n",
       "<table border=\"1\" class=\"dataframe\">\n",
       "  <thead>\n",
       "    <tr style=\"text-align: right;\">\n",
       "      <th></th>\n",
       "      <th>SK_ID_BUREAU</th>\n",
       "      <th>MONTHS_BALANCE</th>\n",
       "      <th>STATUS</th>\n",
       "    </tr>\n",
       "  </thead>\n",
       "  <tbody>\n",
       "    <tr>\n",
       "      <th>0</th>\n",
       "      <td>5715448</td>\n",
       "      <td>0</td>\n",
       "      <td>C</td>\n",
       "    </tr>\n",
       "    <tr>\n",
       "      <th>1</th>\n",
       "      <td>5715448</td>\n",
       "      <td>-1</td>\n",
       "      <td>C</td>\n",
       "    </tr>\n",
       "    <tr>\n",
       "      <th>2</th>\n",
       "      <td>5715448</td>\n",
       "      <td>-2</td>\n",
       "      <td>C</td>\n",
       "    </tr>\n",
       "    <tr>\n",
       "      <th>3</th>\n",
       "      <td>5715448</td>\n",
       "      <td>-3</td>\n",
       "      <td>C</td>\n",
       "    </tr>\n",
       "    <tr>\n",
       "      <th>4</th>\n",
       "      <td>5715448</td>\n",
       "      <td>-4</td>\n",
       "      <td>C</td>\n",
       "    </tr>\n",
       "    <tr>\n",
       "      <th>...</th>\n",
       "      <td>...</td>\n",
       "      <td>...</td>\n",
       "      <td>...</td>\n",
       "    </tr>\n",
       "    <tr>\n",
       "      <th>27299920</th>\n",
       "      <td>5041336</td>\n",
       "      <td>-47</td>\n",
       "      <td>X</td>\n",
       "    </tr>\n",
       "    <tr>\n",
       "      <th>27299921</th>\n",
       "      <td>5041336</td>\n",
       "      <td>-48</td>\n",
       "      <td>X</td>\n",
       "    </tr>\n",
       "    <tr>\n",
       "      <th>27299922</th>\n",
       "      <td>5041336</td>\n",
       "      <td>-49</td>\n",
       "      <td>X</td>\n",
       "    </tr>\n",
       "    <tr>\n",
       "      <th>27299923</th>\n",
       "      <td>5041336</td>\n",
       "      <td>-50</td>\n",
       "      <td>X</td>\n",
       "    </tr>\n",
       "    <tr>\n",
       "      <th>27299924</th>\n",
       "      <td>5041336</td>\n",
       "      <td>-51</td>\n",
       "      <td>X</td>\n",
       "    </tr>\n",
       "  </tbody>\n",
       "</table>\n",
       "<p>27299925 rows × 3 columns</p>\n",
       "</div>"
      ],
      "text/plain": [
       "          SK_ID_BUREAU  MONTHS_BALANCE STATUS\n",
       "0              5715448               0      C\n",
       "1              5715448              -1      C\n",
       "2              5715448              -2      C\n",
       "3              5715448              -3      C\n",
       "4              5715448              -4      C\n",
       "...                ...             ...    ...\n",
       "27299920       5041336             -47      X\n",
       "27299921       5041336             -48      X\n",
       "27299922       5041336             -49      X\n",
       "27299923       5041336             -50      X\n",
       "27299924       5041336             -51      X\n",
       "\n",
       "[27299925 rows x 3 columns]"
      ]
     },
     "execution_count": 5,
     "metadata": {},
     "output_type": "execute_result"
    }
   ],
   "source": [
    "bureau"
   ]
  },
  {
   "cell_type": "code",
   "execution_count": 6,
   "metadata": {},
   "outputs": [],
   "source": [
    "agr_train = bureau.loc[bureau.index.isin(list(train.SK_ID_CURR.unique()))]"
   ]
  },
  {
   "cell_type": "code",
   "execution_count": 7,
   "metadata": {},
   "outputs": [],
   "source": [
    "agr_test = bureau.loc[bureau.index.isin(list(test.SK_ID_CURR.unique()))]"
   ]
  },
  {
   "cell_type": "code",
   "execution_count": null,
   "metadata": {},
   "outputs": [],
   "source": [
    "agr_train"
   ]
  },
  {
   "cell_type": "code",
   "execution_count": 10,
   "metadata": {},
   "outputs": [],
   "source": [
    "without_credit = list(set(train.SK_ID_CURR) - set(agr_train.index))\n",
    "empty_df = pd.DataFrame(np.nan, index=without_credit, columns=list(agr_train))\n",
    "empty_df.fillna(9999, inplace=True)\n",
    "empty_df['dummy_credit_history'] = 0\n",
    "agr_train['dummy_credit_history'] = 1\n",
    "features = pd.concat([empty_df, agr_train])\n",
    "features['SK_ID_CURR'] = features.index\n",
    "train_df = train.merge(features, on='SK_ID_CURR', how='left')"
   ]
  },
  {
   "cell_type": "code",
   "execution_count": 11,
   "metadata": {},
   "outputs": [],
   "source": [
    "without_credit = list(set(test.SK_ID_CURR) - set(agr_test.index))\n",
    "empty_df = pd.DataFrame(np.nan, index=without_credit, columns=list(agr_test))\n",
    "empty_df.fillna(9999, inplace=True)\n",
    "empty_df['dummy_credit_history'] = 0\n",
    "agr_train['dummy_credit_history'] = 1\n",
    "features = pd.concat([empty_df, agr_test])\n",
    "features['SK_ID_CURR'] = features.index\n",
    "test_df = test.merge(features, on='SK_ID_CURR', how='left')"
   ]
  },
  {
   "cell_type": "code",
   "execution_count": 12,
   "metadata": {},
   "outputs": [],
   "source": [
    "import analytics as als"
   ]
  },
  {
   "cell_type": "code",
   "execution_count": 14,
   "metadata": {},
   "outputs": [],
   "source": [
    "X = train_df.drop(columns=['SK_ID_CURR', 'Target'])\n",
    "y = train_df['Target']"
   ]
  },
  {
   "cell_type": "code",
   "execution_count": 15,
   "metadata": {},
   "outputs": [],
   "source": [
    "feature_str, feature_int = als.get_lists_type_feature(train_df, list(train_df))"
   ]
  },
  {
   "cell_type": "code",
   "execution_count": 16,
   "metadata": {},
   "outputs": [
    {
     "data": {
      "text/plain": [
       "['STATUS']"
      ]
     },
     "execution_count": 16,
     "metadata": {},
     "output_type": "execute_result"
    }
   ],
   "source": [
    "feature_str"
   ]
  },
  {
   "cell_type": "code",
   "execution_count": 19,
   "metadata": {},
   "outputs": [],
   "source": [
    "kf = StratifiedKFold(n_splits=5,  shuffle=True)"
   ]
  },
  {
   "cell_type": "code",
   "execution_count": 17,
   "metadata": {},
   "outputs": [],
   "source": [
    "TE_encoder = TargetEncoder(cols=feature_str)"
   ]
  },
  {
   "cell_type": "code",
   "execution_count": 20,
   "metadata": {},
   "outputs": [],
   "source": [
    "for train_indices, test_indices in kf.split(X, y):\n",
    "    X.iloc[train_indices] = TE_encoder.fit_transform(X.iloc[train_indices], y.iloc[train_indices])\n",
    "    X.iloc[test_indices] = TE_encoder.transform(X.iloc[test_indices])"
   ]
  },
  {
   "cell_type": "code",
   "execution_count": 21,
   "metadata": {},
   "outputs": [],
   "source": [
    "for feature in feature_str:\n",
    "    X[feature] = X[feature].astype('float64')"
   ]
  },
  {
   "cell_type": "code",
   "execution_count": 22,
   "metadata": {},
   "outputs": [
    {
     "name": "stdout",
     "output_type": "stream",
     "text": [
      "train_score 0.7260375628875688\n",
      "test_score 0.6844712870951062\n",
      "train_score 0.7240725286341116\n",
      "test_score 0.6889541602382048\n",
      "train_score 0.7249620473926148\n",
      "test_score 0.6898872691375022\n",
      "train_score 0.7237493632506684\n",
      "test_score 0.6879816330856819\n",
      "train_score 0.7255489227997188\n",
      "test_score 0.6821590083178551\n"
     ]
    }
   ],
   "source": [
    "for train_indices, test_indices in kf.split(X, y):\n",
    "    X_train, X_val = X.iloc[train_indices], X.iloc[test_indices]\n",
    "    y_train, y_val = y.iloc[train_indices], y.iloc[test_indices]\n",
    "    lgbmc = lgb.LGBMClassifier(mobjective='binary',\n",
    "                               max_depth=47, learning_rate=0.05,\n",
    "                               n_estimators=100, class_weight='balanced',\n",
    "                               subsample=0.8,\n",
    "                               colsample_byt\n",
    "                               ree=0.8,\n",
    "                               random_state=42,\n",
    "                               importance_type='gain')\n",
    "    model = lgbmc.fit(X_train, y_train)\n",
    "    y_pred_train = model.predict(X_train)\n",
    "    score_train = roc_auc_score(y_train, y_pred_train)\n",
    "    print(f'train_score {score_train}')   \n",
    "    y_pred_val = model.predict(X_val)\n",
    "    score_val = roc_auc_score(y_val, y_pred_val)\n",
    "    print(f'test_score {score_val}')"
   ]
  },
  {
   "cell_type": "code",
   "execution_count": null,
   "metadata": {},
   "outputs": [],
   "source": []
  }
 ],
 "metadata": {
  "kernelspec": {
   "display_name": "Python 3",
   "language": "python",
   "name": "python3"
  },
  "language_info": {
   "codemirror_mode": {
    "name": "ipython",
    "version": 3
   },
   "file_extension": ".py",
   "mimetype": "text/x-python",
   "name": "python",
   "nbconvert_exporter": "python",
   "pygments_lexer": "ipython3",
   "version": "3.6.9"
  }
 },
 "nbformat": 4,
 "nbformat_minor": 2
}
